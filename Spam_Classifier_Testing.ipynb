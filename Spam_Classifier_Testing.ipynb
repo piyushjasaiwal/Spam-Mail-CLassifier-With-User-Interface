{
 "cells": [
  {
   "cell_type": "markdown",
   "metadata": {},
   "source": [
    "# Notebook Imports"
   ]
  },
  {
   "cell_type": "code",
   "execution_count": 1,
   "metadata": {},
   "outputs": [],
   "source": [
    "import json"
   ]
  },
  {
   "cell_type": "code",
   "execution_count": 2,
   "metadata": {},
   "outputs": [],
   "source": [
    "dict_spam = {}\n",
    "dict_ham = {}\n",
    "\n",
    "with open(\"spam_dict.json\") as json_file:\n",
    "    dict_spam = json.load(json_file)\n",
    "    \n",
    "with open(\"non_spam_dict.json\") as json_file:\n",
    "    dict_ham = json.load(json_file)"
   ]
  },
  {
   "cell_type": "code",
   "execution_count": 3,
   "metadata": {},
   "outputs": [],
   "source": [
    "probability = {}\n",
    "with open (\"probability.json\") as json_file:\n",
    "    probability = json.load(json_file)\n",
    "    \n",
    "prob_spam = probability['spam']\n",
    "prob_ham = probability['ham']"
   ]
  },
  {
   "cell_type": "code",
   "execution_count": 4,
   "metadata": {},
   "outputs": [
    {
     "data": {
      "text/plain": [
       "{'spam': 0.8653803006506618, 'ham': 0.13461969934933812}"
      ]
     },
     "execution_count": 4,
     "metadata": {},
     "output_type": "execute_result"
    }
   ],
   "source": [
    "probability"
   ]
  },
  {
   "cell_type": "code",
   "execution_count": 5,
   "metadata": {},
   "outputs": [],
   "source": [
    "dict_ham\n",
    "non_spam_keys = dict_ham.keys()"
   ]
  },
  {
   "cell_type": "code",
   "execution_count": 6,
   "metadata": {},
   "outputs": [],
   "source": [
    "dict_spam\n",
    "spam_keys = dict_spam.keys()"
   ]
  },
  {
   "cell_type": "code",
   "execution_count": 7,
   "metadata": {},
   "outputs": [],
   "source": [
    "message = \"Hello\""
   ]
  },
  {
   "cell_type": "code",
   "execution_count": 8,
   "metadata": {},
   "outputs": [],
   "source": [
    "import nltk\n",
    "from nltk.tokenize import word_tokenize\n",
    "from nltk.corpus import stopwords\n",
    "from nltk.stem import PorterStemmer\n",
    "ps = PorterStemmer()\n",
    "stopWords = stopwords.words('english')"
   ]
  },
  {
   "cell_type": "code",
   "execution_count": 9,
   "metadata": {},
   "outputs": [],
   "source": [
    "def preprocess_message(message):\n",
    "    message = message.lower()\n",
    "    words = word_tokenize(message)\n",
    "    new_message = []\n",
    "    for word in words:\n",
    "        if word not in stopWords and word.isalnum():\n",
    "            new_message.append(ps.stem(word))\n",
    "    return new_message"
   ]
  },
  {
   "cell_type": "code",
   "execution_count": 19,
   "metadata": {},
   "outputs": [],
   "source": [
    "words = \"Hello friend i have a great offer\""
   ]
  },
  {
   "cell_type": "code",
   "execution_count": null,
   "metadata": {},
   "outputs": [],
   "source": []
  },
  {
   "cell_type": "code",
   "execution_count": 20,
   "metadata": {},
   "outputs": [],
   "source": [
    "def make_prediction(message):\n",
    "    new_message = preprocess_message(message)\n",
    "    spam = 1\n",
    "    ham = 1\n",
    "    for word in new_message:\n",
    "        if word in spam_keys:\n",
    "            spam *= (prob_spam*dict_spam[word])\n",
    "        if word in non_spam_keys:\n",
    "            ham *= (prob_ham*dict_ham[word])\n",
    "    return 'Spam' if spam > ham else 'Non-Spam'"
   ]
  },
  {
   "cell_type": "code",
   "execution_count": 21,
   "metadata": {},
   "outputs": [
    {
     "name": "stdout",
     "output_type": "stream",
     "text": [
      "Spam\n"
     ]
    }
   ],
   "source": [
    "print(make_prediction(words))"
   ]
  },
  {
   "cell_type": "code",
   "execution_count": null,
   "metadata": {},
   "outputs": [],
   "source": []
  }
 ],
 "metadata": {
  "kernelspec": {
   "display_name": "Python 3 (ipykernel)",
   "language": "python",
   "name": "python3"
  },
  "language_info": {
   "codemirror_mode": {
    "name": "ipython",
    "version": 3
   },
   "file_extension": ".py",
   "mimetype": "text/x-python",
   "name": "python",
   "nbconvert_exporter": "python",
   "pygments_lexer": "ipython3",
   "version": "3.8.5"
  }
 },
 "nbformat": 4,
 "nbformat_minor": 4
}
